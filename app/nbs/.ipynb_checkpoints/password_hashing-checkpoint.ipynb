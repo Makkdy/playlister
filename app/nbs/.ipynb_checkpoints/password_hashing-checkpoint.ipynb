{
 "cells": [
  {
   "cell_type": "code",
   "execution_count": 19,
   "id": "353fef48",
   "metadata": {},
   "outputs": [
    {
     "ename": "ImportError",
     "evalue": "cannot import name 'verify' from 'argon2' (C:\\Users\\mubba\\OneDrive\\Desktop\\Video-player\\venv\\Lib\\site-packages\\argon2\\__init__.py)",
     "output_type": "error",
     "traceback": [
      "\u001b[1;31m-------------------\u001b[0m",
      "\u001b[1;31mImportError\u001b[0mTraceback (most recent call last)",
      "Cell \u001b[1;32mIn[19], line 1\u001b[0m\n\u001b[1;32m----> 1\u001b[0m \u001b[38;5;28;01mfrom\u001b[39;00m \u001b[38;5;21;01margon2\u001b[39;00m \u001b[38;5;28;01mimport\u001b[39;00m PasswordHasher, verify\n",
      "\u001b[1;31mImportError\u001b[0m: cannot import name 'verify' from 'argon2' (C:\\Users\\mubba\\OneDrive\\Desktop\\Video-player\\venv\\Lib\\site-packages\\argon2\\__init__.py)"
     ]
    }
   ],
   "source": [
    "from argon2 import PasswordHasher, verify"
   ]
  },
  {
   "cell_type": "code",
   "execution_count": 18,
   "id": "780980eb",
   "metadata": {},
   "outputs": [
    {
     "ename": "InvalidHash",
     "evalue": "",
     "output_type": "error",
     "traceback": [
      "\u001b[1;31m-------------------\u001b[0m",
      "\u001b[1;31mKeyError\u001b[0mTraceback (most recent call last)",
      "File \u001b[1;32m~\\OneDrive\\Desktop\\Video-player\\venv\\Lib\\site-packages\\argon2\\_password_hasher.py:210\u001b[0m, in \u001b[0;36mPasswordHasher.verify\u001b[1;34m(self, hash, password)\u001b[0m\n\u001b[0;32m    209\u001b[0m \u001b[38;5;28;01mtry\u001b[39;00m:\n\u001b[1;32m--> 210\u001b[0m     hash_type \u001b[38;5;241m=\u001b[39m \u001b[38;5;28;43mself\u001b[39;49m\u001b[38;5;241;43m.\u001b[39;49m\u001b[43m_header_to_type\u001b[49m\u001b[43m[\u001b[49m\u001b[38;5;28;43mhash\u001b[39;49m\u001b[43m[\u001b[49m\u001b[43m:\u001b[49m\u001b[38;5;241;43m9\u001b[39;49m\u001b[43m]\u001b[49m\u001b[43m]\u001b[49m\n\u001b[0;32m    211\u001b[0m \u001b[38;5;28;01mexcept\u001b[39;00m (\u001b[38;5;167;01mIndexError\u001b[39;00m, \u001b[38;5;167;01mKeyError\u001b[39;00m, \u001b[38;5;167;01mLookupError\u001b[39;00m):\n",
      "\u001b[1;31mKeyError\u001b[0m: b'Mubbaseer'",
      "\nDuring handling of the above exception, another exception occurred:\n",
      "\u001b[1;31mInvalidHash\u001b[0mTraceback (most recent call last)",
      "Cell \u001b[1;32mIn[18], line 6\u001b[0m\n\u001b[0;32m      3\u001b[0m     hashed \u001b[38;5;241m=\u001b[39m ph\u001b[38;5;241m.\u001b[39mhash(password)\n\u001b[0;32m      4\u001b[0m \u001b[38;5;66;03m# print(hashed)\u001b[39;00m\n\u001b[1;32m----> 6\u001b[0m \u001b[43mph\u001b[49m\u001b[38;5;241;43m.\u001b[39;49m\u001b[43mverify\u001b[49m\u001b[43m(\u001b[49m\u001b[38;5;124;43m\"\u001b[39;49m\u001b[38;5;124;43mMubbaseer\u001b[39;49m\u001b[38;5;124;43m\"\u001b[39;49m\u001b[43m,\u001b[49m\u001b[43mhashed\u001b[49m\u001b[43m)\u001b[49m\n",
      "File \u001b[1;32m~\\OneDrive\\Desktop\\Video-player\\venv\\Lib\\site-packages\\argon2\\_password_hasher.py:212\u001b[0m, in \u001b[0;36mPasswordHasher.verify\u001b[1;34m(self, hash, password)\u001b[0m\n\u001b[0;32m    210\u001b[0m     hash_type \u001b[38;5;241m=\u001b[39m \u001b[38;5;28mself\u001b[39m\u001b[38;5;241m.\u001b[39m_header_to_type[\u001b[38;5;28mhash\u001b[39m[:\u001b[38;5;241m9\u001b[39m]]\n\u001b[0;32m    211\u001b[0m \u001b[38;5;28;01mexcept\u001b[39;00m (\u001b[38;5;167;01mIndexError\u001b[39;00m, \u001b[38;5;167;01mKeyError\u001b[39;00m, \u001b[38;5;167;01mLookupError\u001b[39;00m):\n\u001b[1;32m--> 212\u001b[0m     \u001b[38;5;28;01mraise\u001b[39;00m InvalidHash()\n\u001b[0;32m    214\u001b[0m \u001b[38;5;28;01mreturn\u001b[39;00m verify_secret(\n\u001b[0;32m    215\u001b[0m     \u001b[38;5;28mhash\u001b[39m, _ensure_bytes(password, \u001b[38;5;28mself\u001b[39m\u001b[38;5;241m.\u001b[39mencoding), hash_type\n\u001b[0;32m    216\u001b[0m )\n",
      "\u001b[1;31mInvalidHash\u001b[0m: "
     ]
    }
   ],
   "source": [
    "def generate_password(password):\n",
    "    ph = PasswordHasher()\n",
    "    hashed = ph.hash(password)\n",
    "# print(hashed)\n",
    "\n",
    "ph.verify(\"Mubbaseer\",hashed)"
   ]
  },
  {
   "cell_type": "code",
   "execution_count": 17,
   "id": "ba57ccad",
   "metadata": {},
   "outputs": [],
   "source": [
    "def set_password(password, commit = False):\n",
    "    hash_password = generate_password(password)\n",
    "    return hash_password\n",
    "    \n",
    "    "
   ]
  }
 ],
 "metadata": {
  "kernelspec": {
   "display_name": "Python 3 (ipykernel)",
   "language": "python",
   "name": "python3"
  },
  "language_info": {
   "codemirror_mode": {
    "name": "ipython",
    "version": 3
   },
   "file_extension": ".py",
   "mimetype": "text/x-python",
   "name": "python",
   "nbconvert_exporter": "python",
   "pygments_lexer": "ipython3",
   "version": "3.11.1"
  }
 },
 "nbformat": 4,
 "nbformat_minor": 5
}
