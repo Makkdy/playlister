{
 "cells": [
  {
   "cell_type": "code",
   "execution_count": 12,
   "id": "1183e7b1",
   "metadata": {},
   "outputs": [
    {
     "name": "stdout",
     "output_type": "stream",
     "text": [
      "C:\\Users\\mubba\\OneDrive\\Desktop\n"
     ]
    }
   ],
   "source": [
    "%cd .."
   ]
  },
  {
   "cell_type": "code",
   "execution_count": 19,
   "id": "8d008dd7",
   "metadata": {},
   "outputs": [
    {
     "name": "stdout",
     "output_type": "stream",
     "text": [
      "<module 'app.db' from 'C:\\\\Users\\\\mubba\\\\OneDrive\\\\Desktop\\\\Video-player\\\\app\\\\db.py'>\n"
     ]
    }
   ],
   "source": [
    "from app import db\n",
    "print(db)\n",
    "from app.user.models import User\n",
    "from cassandra.cqlengine.management import sync_table"
   ]
  },
  {
   "cell_type": "code",
   "execution_count": 21,
   "id": "daf93a9e",
   "metadata": {},
   "outputs": [
    {
     "ename": "FileNotFoundError",
     "evalue": "[Errno 2] No such file or directory: './app/project.zip'",
     "output_type": "error",
     "traceback": [
      "\u001b[1;31m---------------------------------------------------------------------------\u001b[0m",
      "\u001b[1;31mFileNotFoundError\u001b[0m                         Traceback (most recent call last)",
      "Cell \u001b[1;32mIn[21], line 1\u001b[0m\n\u001b[1;32m----> 1\u001b[0m \u001b[43mdb\u001b[49m\u001b[38;5;241;43m.\u001b[39;49m\u001b[43msession\u001b[49m\u001b[43m(\u001b[49m\u001b[43m)\u001b[49m\n",
      "File \u001b[1;32m~\\OneDrive\\Desktop\\Video-player\\app\\db.py:18\u001b[0m, in \u001b[0;36msession\u001b[1;34m()\u001b[0m\n\u001b[0;32m     13\u001b[0m cloud_config \u001b[38;5;241m=\u001b[39m {\n\u001b[0;32m     14\u001b[0m     \u001b[38;5;124m'\u001b[39m\u001b[38;5;124msecure_connect_bundle\u001b[39m\u001b[38;5;124m'\u001b[39m: ASTRADB_CONNECT_BUNDLE\n\u001b[0;32m     15\u001b[0m }\n\u001b[0;32m     16\u001b[0m auth_provider \u001b[38;5;241m=\u001b[39m PlainTextAuthProvider(\n\u001b[0;32m     17\u001b[0m     ASTRADB_CLIENT_ID, ASTRADB_CLIENT_SECRET)\n\u001b[1;32m---> 18\u001b[0m cluster \u001b[38;5;241m=\u001b[39m \u001b[43mCluster\u001b[49m\u001b[43m(\u001b[49m\u001b[43mcloud\u001b[49m\u001b[38;5;241;43m=\u001b[39;49m\u001b[43mcloud_config\u001b[49m\u001b[43m,\u001b[49m\u001b[43m \u001b[49m\u001b[43mauth_provider\u001b[49m\u001b[38;5;241;43m=\u001b[39;49m\u001b[43mauth_provider\u001b[49m\u001b[43m)\u001b[49m\n\u001b[0;32m     19\u001b[0m session \u001b[38;5;241m=\u001b[39m cluster\u001b[38;5;241m.\u001b[39mconnect()\n\u001b[0;32m     20\u001b[0m connection\u001b[38;5;241m.\u001b[39mregister_connection(\u001b[38;5;28mstr\u001b[39m(session), session\u001b[38;5;241m=\u001b[39msession)\n",
      "File \u001b[1;32m~\\OneDrive\\Desktop\\Video-player\\venv\\Lib\\site-packages\\cassandra\\cluster.py:1125\u001b[0m, in \u001b[0;36mCluster.__init__\u001b[1;34m(self, contact_points, port, compression, auth_provider, load_balancing_policy, reconnection_policy, default_retry_policy, conviction_policy_factory, metrics_enabled, connection_class, ssl_options, sockopts, cql_version, protocol_version, executor_threads, max_schema_agreement_wait, control_connection_timeout, idle_heartbeat_interval, schema_event_refresh_window, topology_event_refresh_window, connect_timeout, schema_metadata_enabled, token_metadata_enabled, address_translator, status_event_refresh_window, prepare_on_all_hosts, reprepare_on_up, execution_profiles, allow_beta_protocol_version, timestamp_generator, idle_heartbeat_timeout, no_compact, ssl_context, endpoint_factory, application_name, application_version, monitor_reporting_enabled, monitor_reporting_interval, client_id, cloud)\u001b[0m\n\u001b[0;32m   1123\u001b[0m uses_twisted \u001b[38;5;241m=\u001b[39m TwistedConnection \u001b[38;5;129;01mand\u001b[39;00m \u001b[38;5;28missubclass\u001b[39m(\u001b[38;5;28mself\u001b[39m\u001b[38;5;241m.\u001b[39mconnection_class, TwistedConnection)\n\u001b[0;32m   1124\u001b[0m uses_eventlet \u001b[38;5;241m=\u001b[39m EventletConnection \u001b[38;5;129;01mand\u001b[39;00m \u001b[38;5;28missubclass\u001b[39m(\u001b[38;5;28mself\u001b[39m\u001b[38;5;241m.\u001b[39mconnection_class, EventletConnection)\n\u001b[1;32m-> 1125\u001b[0m cloud_config \u001b[38;5;241m=\u001b[39m \u001b[43mdscloud\u001b[49m\u001b[38;5;241;43m.\u001b[39;49m\u001b[43mget_cloud_config\u001b[49m\u001b[43m(\u001b[49m\u001b[43mcloud\u001b[49m\u001b[43m,\u001b[49m\u001b[43m \u001b[49m\u001b[43mcreate_pyopenssl_context\u001b[49m\u001b[38;5;241;43m=\u001b[39;49m\u001b[43muses_twisted\u001b[49m\u001b[43m \u001b[49m\u001b[38;5;129;43;01mor\u001b[39;49;00m\u001b[43m \u001b[49m\u001b[43muses_eventlet\u001b[49m\u001b[43m)\u001b[49m\n\u001b[0;32m   1127\u001b[0m ssl_context \u001b[38;5;241m=\u001b[39m cloud_config\u001b[38;5;241m.\u001b[39mssl_context\n\u001b[0;32m   1128\u001b[0m ssl_options \u001b[38;5;241m=\u001b[39m {\u001b[38;5;124m'\u001b[39m\u001b[38;5;124mcheck_hostname\u001b[39m\u001b[38;5;124m'\u001b[39m: \u001b[38;5;28;01mTrue\u001b[39;00m}\n",
      "File \u001b[1;32m~\\OneDrive\\Desktop\\Video-player\\venv\\Lib\\site-packages\\cassandra\\datastax\\cloud\\__init__.py:88\u001b[0m, in \u001b[0;36mget_cloud_config\u001b[1;34m(cloud_config, create_pyopenssl_context)\u001b[0m\n\u001b[0;32m     85\u001b[0m     \u001b[38;5;28;01mraise\u001b[39;00m \u001b[38;5;167;01mValueError\u001b[39;00m(\u001b[38;5;124m\"\u001b[39m\u001b[38;5;124mThe cloud config doesn\u001b[39m\u001b[38;5;124m'\u001b[39m\u001b[38;5;124mt have a secure_connect_bundle specified.\u001b[39m\u001b[38;5;124m\"\u001b[39m)\n\u001b[0;32m     87\u001b[0m \u001b[38;5;28;01mtry\u001b[39;00m:\n\u001b[1;32m---> 88\u001b[0m     config \u001b[38;5;241m=\u001b[39m \u001b[43mread_cloud_config_from_zip\u001b[49m\u001b[43m(\u001b[49m\u001b[43mcloud_config\u001b[49m\u001b[43m,\u001b[49m\u001b[43m \u001b[49m\u001b[43mcreate_pyopenssl_context\u001b[49m\u001b[43m)\u001b[49m\n\u001b[0;32m     89\u001b[0m \u001b[38;5;28;01mexcept\u001b[39;00m BadZipFile:\n\u001b[0;32m     90\u001b[0m     \u001b[38;5;28;01mraise\u001b[39;00m \u001b[38;5;167;01mValueError\u001b[39;00m(\u001b[38;5;124m\"\u001b[39m\u001b[38;5;124mUnable to open the zip file for the cloud config. Check your secure connect bundle.\u001b[39m\u001b[38;5;124m\"\u001b[39m)\n",
      "File \u001b[1;32m~\\OneDrive\\Desktop\\Video-player\\venv\\Lib\\site-packages\\cassandra\\datastax\\cloud\\__init__.py:101\u001b[0m, in \u001b[0;36mread_cloud_config_from_zip\u001b[1;34m(cloud_config, create_pyopenssl_context)\u001b[0m\n\u001b[0;32m     99\u001b[0m secure_bundle \u001b[38;5;241m=\u001b[39m cloud_config[\u001b[38;5;124m'\u001b[39m\u001b[38;5;124msecure_connect_bundle\u001b[39m\u001b[38;5;124m'\u001b[39m]\n\u001b[0;32m    100\u001b[0m use_default_tempdir \u001b[38;5;241m=\u001b[39m cloud_config\u001b[38;5;241m.\u001b[39mget(\u001b[38;5;124m'\u001b[39m\u001b[38;5;124muse_default_tempdir\u001b[39m\u001b[38;5;124m'\u001b[39m, \u001b[38;5;28;01mNone\u001b[39;00m)\n\u001b[1;32m--> 101\u001b[0m \u001b[38;5;28;01mwith\u001b[39;00m \u001b[43mZipFile\u001b[49m\u001b[43m(\u001b[49m\u001b[43msecure_bundle\u001b[49m\u001b[43m)\u001b[49m \u001b[38;5;28;01mas\u001b[39;00m zipfile:\n\u001b[0;32m    102\u001b[0m     base_dir \u001b[38;5;241m=\u001b[39m tempfile\u001b[38;5;241m.\u001b[39mgettempdir() \u001b[38;5;28;01mif\u001b[39;00m use_default_tempdir \u001b[38;5;28;01melse\u001b[39;00m os\u001b[38;5;241m.\u001b[39mpath\u001b[38;5;241m.\u001b[39mdirname(secure_bundle)\n\u001b[0;32m    103\u001b[0m     tmp_dir \u001b[38;5;241m=\u001b[39m tempfile\u001b[38;5;241m.\u001b[39mmkdtemp(\u001b[38;5;28mdir\u001b[39m\u001b[38;5;241m=\u001b[39mbase_dir)\n",
      "File \u001b[1;32mC:\\Python311\\Lib\\zipfile.py:1281\u001b[0m, in \u001b[0;36mZipFile.__init__\u001b[1;34m(self, file, mode, compression, allowZip64, compresslevel, strict_timestamps, metadata_encoding)\u001b[0m\n\u001b[0;32m   1279\u001b[0m \u001b[38;5;28;01mwhile\u001b[39;00m \u001b[38;5;28;01mTrue\u001b[39;00m:\n\u001b[0;32m   1280\u001b[0m     \u001b[38;5;28;01mtry\u001b[39;00m:\n\u001b[1;32m-> 1281\u001b[0m         \u001b[38;5;28mself\u001b[39m\u001b[38;5;241m.\u001b[39mfp \u001b[38;5;241m=\u001b[39m \u001b[43mio\u001b[49m\u001b[38;5;241;43m.\u001b[39;49m\u001b[43mopen\u001b[49m\u001b[43m(\u001b[49m\u001b[43mfile\u001b[49m\u001b[43m,\u001b[49m\u001b[43m \u001b[49m\u001b[43mfilemode\u001b[49m\u001b[43m)\u001b[49m\n\u001b[0;32m   1282\u001b[0m     \u001b[38;5;28;01mexcept\u001b[39;00m \u001b[38;5;167;01mOSError\u001b[39;00m:\n\u001b[0;32m   1283\u001b[0m         \u001b[38;5;28;01mif\u001b[39;00m filemode \u001b[38;5;129;01min\u001b[39;00m modeDict:\n",
      "\u001b[1;31mFileNotFoundError\u001b[0m: [Errno 2] No such file or directory: './app/project.zip'"
     ]
    }
   ],
   "source": [
    "db.session()"
   ]
  },
  {
   "cell_type": "code",
   "execution_count": null,
   "id": "5ab56bff",
   "metadata": {},
   "outputs": [],
   "source": []
  }
 ],
 "metadata": {
  "kernelspec": {
   "display_name": "Python 3 (ipykernel)",
   "language": "python",
   "name": "python3"
  },
  "language_info": {
   "codemirror_mode": {
    "name": "ipython",
    "version": 3
   },
   "file_extension": ".py",
   "mimetype": "text/x-python",
   "name": "python",
   "nbconvert_exporter": "python",
   "pygments_lexer": "ipython3",
   "version": "3.11.1"
  }
 },
 "nbformat": 4,
 "nbformat_minor": 5
}
