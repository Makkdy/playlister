{
 "cells": [
  {
   "cell_type": "code",
   "execution_count": 17,
   "id": "9ca66026",
   "metadata": {},
   "outputs": [],
   "source": [
    "from email_validator import EmailNotValidError, validate_email"
   ]
  },
  {
   "cell_type": "code",
   "execution_count": 45,
   "id": "d720575e",
   "metadata": {},
   "outputs": [],
   "source": [
    "def _validate_email(email):\n",
    "    valid = False\n",
    "    msg = 'Validated succesfully'\n",
    "    try:\n",
    "        valid = validate_email(email)\n",
    "        valid = True\n",
    "    except EmailNotValidError as e:\n",
    "        msg = str(e)\n",
    "    return valid, msg, email"
   ]
  },
  {
   "cell_type": "code",
   "execution_count": 46,
   "id": "7e1a2684",
   "metadata": {},
   "outputs": [
    {
     "data": {
      "text/plain": [
       "(True, '', 'Hello@gmail.com')"
      ]
     },
     "execution_count": 46,
     "metadata": {},
     "output_type": "execute_result"
    }
   ],
   "source": [
    "email = \"Hello@gmail.com\"\n",
    "_validate_email(email)"
   ]
  },
  {
   "cell_type": "code",
   "execution_count": 49,
   "id": "654551df",
   "metadata": {},
   "outputs": [
    {
     "name": "stdout",
     "output_type": "stream",
     "text": [
      "Hello\n"
     ]
    }
   ],
   "source": [
    "mail = False\n",
    "if not mail:\n",
    "    print(\"Hello\")"
   ]
  }
 ],
 "metadata": {
  "kernelspec": {
   "display_name": "Python 3 (ipykernel)",
   "language": "python",
   "name": "python3"
  },
  "language_info": {
   "codemirror_mode": {
    "name": "ipython",
    "version": 3
   },
   "file_extension": ".py",
   "mimetype": "text/x-python",
   "name": "python",
   "nbconvert_exporter": "python",
   "pygments_lexer": "ipython3",
   "version": "3.11.1"
  }
 },
 "nbformat": 4,
 "nbformat_minor": 5
}
