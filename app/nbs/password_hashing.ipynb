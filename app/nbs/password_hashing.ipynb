{
 "cells": [
  {
   "cell_type": "code",
   "execution_count": 25,
   "id": "b1f035e6",
   "metadata": {},
   "outputs": [],
   "source": [
    "from argon2 import PasswordHasher"
   ]
  },
  {
   "cell_type": "code",
   "execution_count": 29,
   "id": "b158b22d",
   "metadata": {},
   "outputs": [
    {
     "data": {
      "text/plain": [
       "True"
      ]
     },
     "execution_count": 29,
     "metadata": {},
     "output_type": "execute_result"
    }
   ],
   "source": [
    "# def generate_password(password):\n",
    "ph = PasswordHasher()\n",
    "hashed = ph.hash(\"Mubbaseer\")\n",
    "# print(hashed)\n",
    "ph.verify(hashed,\"Mubbaseer\")\n"
   ]
  },
  {
   "cell_type": "code",
   "execution_count": 17,
   "id": "4c012a20",
   "metadata": {},
   "outputs": [],
   "source": [
    "def set_password(password, commit = False):\n",
    "    hash_password = generate_password(password)\n",
    "    return hash_password\n",
    "    \n",
    "    "
   ]
  }
 ],
 "metadata": {
  "kernelspec": {
   "display_name": "Python 3 (ipykernel)",
   "language": "python",
   "name": "python3"
  },
  "language_info": {
   "codemirror_mode": {
    "name": "ipython",
    "version": 3
   },
   "file_extension": ".py",
   "mimetype": "text/x-python",
   "name": "python",
   "nbconvert_exporter": "python",
   "pygments_lexer": "ipython3",
   "version": "3.11.1"
  }
 },
 "nbformat": 4,
 "nbformat_minor": 5
}
