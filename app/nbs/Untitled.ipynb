{
 "cells": [
  {
   "cell_type": "code",
   "execution_count": 4,
   "id": "1183e7b1",
   "metadata": {},
   "outputs": [
    {
     "name": "stdout",
     "output_type": "stream",
     "text": [
      "C:\\Users\\mubba\\OneDrive\\Desktop\\Video-player\n"
     ]
    }
   ],
   "source": [
    "%cd C:\\Users\\mubba\\OneDrive\\Desktop\\Video-player"
   ]
  },
  {
   "cell_type": "code",
   "execution_count": 5,
   "id": "8d008dd7",
   "metadata": {},
   "outputs": [
    {
     "name": "stdout",
     "output_type": "stream",
     "text": [
      "<module 'app.db' from 'C:\\\\Users\\\\mubba\\\\OneDrive\\\\Desktop\\\\Video-player\\\\app\\\\db.py'>\n"
     ]
    }
   ],
   "source": [
    "from app import db\n",
    "from app.user.models import User\n",
    "from cassandra.cqlengine.management import sync_table"
   ]
  },
  {
   "cell_type": "code",
   "execution_count": null,
   "id": "daf93a9e",
   "metadata": {},
   "outputs": [],
   "source": [
    "db.session()\n",
    "sync_table(User)\n",
    "User.create()"
   ]
  },
  {
   "cell_type": "code",
   "execution_count": null,
   "id": "5ab56bff",
   "metadata": {},
   "outputs": [],
   "source": []
  }
 ],
 "metadata": {
  "kernelspec": {
   "display_name": "Python 3 (ipykernel)",
   "language": "python",
   "name": "python3"
  },
  "language_info": {
   "codemirror_mode": {
    "name": "ipython",
    "version": 3
   },
   "file_extension": ".py",
   "mimetype": "text/x-python",
   "name": "python",
   "nbconvert_exporter": "python",
   "pygments_lexer": "ipython3",
   "version": "3.11.1"
  }
 },
 "nbformat": 4,
 "nbformat_minor": 5
}
